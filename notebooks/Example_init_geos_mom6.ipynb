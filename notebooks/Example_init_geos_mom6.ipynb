{
 "cells": [
  {
   "cell_type": "code",
   "execution_count": null,
   "id": "72d36795",
   "metadata": {},
   "outputs": [],
   "source": [
    "%cd ../src/init_geos_mom6\n",
    "%pwd"
   ]
  },
  {
   "cell_type": "markdown",
   "id": "fd56b586",
   "metadata": {},
   "source": [
    "## Download test data \n",
    "https://zenodo.org/records/15170073"
   ]
  },
  {
   "cell_type": "code",
   "execution_count": null,
   "id": "ccd06620",
   "metadata": {},
   "outputs": [],
   "source": [
    "!wget -c https://zenodo.org/records/15170073/files/TEST_DATA_init_geos_mom6.zip\n",
    "!unzip TEST_DATA_init_geos_mom6.zip\n",
    "!ln -sf TEST_DATA_init_geos_mom6/INPUT/* .\n",
    "!ls"
   ]
  },
  {
   "cell_type": "markdown",
   "id": "5fc35601",
   "metadata": {},
   "source": [
    "## Generate T/S IC from the GEOS-S2S3 ODAS file\n",
    "- Data is the ODAS analysis on uniform lat-lon grids"
   ]
  },
  {
   "cell_type": "code",
   "execution_count": null,
   "id": "5d459226",
   "metadata": {},
   "outputs": [],
   "source": [
    "!PYTHONPATH=\"../common\" ./init_m6ts_from_m5odas.py ic_ts_m5odas.nc \\\n",
    "        --m5Ana ocean_temp_salt.res.nc \\\n",
    "        --m5Grid grid_spec.nc.mom5_LL1440x721"
   ]
  },
  {
   "cell_type": "markdown",
   "id": "a2e2988a",
   "metadata": {},
   "source": [
    "## Generate T/S IC from the CMEMS \n",
    "- Data can be found at (https://data.marine.copernicus.eu/product/GLOBAL_MULTIYEAR_PHY_ENS_001_031/description)\n",
    "- 75-level, 0.25deg daily ocean analysis ensemble covering 80S to 90N\n",
    "- 90S-80S are flooded through a relaxation"
   ]
  },
  {
   "cell_type": "code",
   "execution_count": null,
   "id": "edcafff6",
   "metadata": {},
   "outputs": [],
   "source": [
    "# change \"oras\" to \"glor\" or \"cglo\" if not want to using ORAS5\n",
    "!PYTHONPATH=\"../common\" ./init_m6ts_from_cmems.py ic_ts_cmems.nc \\\n",
    "        --fnin ./cmems_mod_glo_phy-all_my_0.25deg_P1D-m-20230101.nc \\\n",
    "        --oname oras"
   ]
  },
  {
   "cell_type": "markdown",
   "id": "e6e084c8",
   "metadata": {},
   "source": [
    "## Generate T/S IC from the UFS replay\n",
    "- Data can be found at (https://registry.opendata.aws/noaa-ufs-gefsv13replay-pds/)\n",
    "- Model tripolar grid info is stored at the cycle 06z\n",
    "- Use ocean history files (e.g., `ocn_2023_04_01_06.nc`) as the input."
   ]
  },
  {
   "cell_type": "code",
   "execution_count": null,
   "id": "75d4b0f6",
   "metadata": {},
   "outputs": [],
   "source": [
    "### Step 1: generate the regridder with a uniform resolution of 5 deg\n",
    "!PYTHONPATH=\"../common\" ./create_regridder.py wts.nc \\\n",
    "        --fngrd ufs.cpld.cpl.r.2016-01-02-10800.nc \\\n",
    "        --latname ocnExp_lat \\\n",
    "        --lonname ocnExp_lon \\\n",
    "        --res 5"
   ]
  },
  {
   "cell_type": "code",
   "execution_count": null,
   "id": "a7e4a3c5",
   "metadata": {
    "scrolled": false
   },
   "outputs": [],
   "source": [
    "### Step 2: generate T/S IC \n",
    "# change to \"--npes 75\" when using 1 Milan node on Discover; \n",
    "# \n",
    "!PYTHONPATH=\"../common\" ./init_m6ts_from_ufsreplay.py ic_ts_ufs.nc \\\n",
    "        --fnDiag ocn_2016_01_02_00.nc \\\n",
    "        --fnRgrdr wts.nc \\\n",
    "        --npes 8\n"
   ]
  }
 ],
 "metadata": {
  "kernelspec": {
   "display_name": "Python 3 (ipykernel)",
   "language": "python",
   "name": "python3"
  },
  "language_info": {
   "codemirror_mode": {
    "name": "ipython",
    "version": 3
   },
   "file_extension": ".py",
   "mimetype": "text/x-python",
   "name": "python",
   "nbconvert_exporter": "python",
   "pygments_lexer": "ipython3",
   "version": "3.9.15"
  }
 },
 "nbformat": 4,
 "nbformat_minor": 5
}
